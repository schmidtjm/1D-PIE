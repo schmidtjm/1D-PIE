{
 "cells": [
  {
   "cell_type": "markdown",
   "id": "e3886555",
   "metadata": {},
   "source": [
    "# 1D-PIE"
   ]
  },
  {
   "cell_type": "markdown",
   "id": "5cd52bdc",
   "metadata": {},
   "source": [
    "This notebook provides an introduction to **1D-PIE**, a **1D thermal evolution model** that calculates the evolution of rocky planets over a set, forward-run time span (default=4.5 Byrs). 1D-PIE is based on the consevation of energy principle (see *Schmidt et al (under Review)*) and models the evolution of melting, crust, lithosphere, boundary layer temperatures, viscosities, and trace element abundances.\n",
    "\n",
    "For more details, see *Schmidt et al. (under Review)*\n",
    "\n",
    "Contact: julia.schmidt@fu-berlin.de"
   ]
  },
  {
   "cell_type": "markdown",
   "id": "765bf733",
   "metadata": {},
   "source": [
    "## Model set up"
   ]
  },
  {
   "cell_type": "markdown",
   "id": "2f8af509",
   "metadata": {},
   "source": [
    "The model is set up in several modules, which can expand over time: the main file that includes the equations for energy conservation, melting, boundary layer thicknesses and temperatures is **interior_evolution.py** (in the **Main** folder). If `outfile=True`, an output dataset will be written in the **Notebooks** foder in *outfile.xlsx* and/or *SL/ML*.\n",
    "\n",
    "**support_functions.py** initializes the arrays for the interior evolution and includes multiple functions that are called in **interior_evolution.py**. Here, you can also find the function ` def write_output_file`, where you can determine which output data you want to include in your *outfile*.\n",
    "\n",
    "**get_parameters.py** includes multiple (mostly) planet non-dependent parameters. Also, it includes compositional information and literature partition coefficients. Here, you set your model conditions and decide on e.g. the mode of tectonics, partition coefficient calculations, and compositions you want to use for your model run.\n",
    "\n",
    "**get_input.py** gives input parameters that are planet-dependent. It gives initial conditions of five solar system planetary bodies and example exoplanets up to M_E=3.0.\n",
    "\n",
    "**plotting_functions.py** encompasses the plotting routines that are executed in **interior_evolution_notebook.ipynb**.\n"
   ]
  },
  {
   "cell_type": "markdown",
   "id": "8cf12e1f",
   "metadata": {},
   "source": [
    "## Running the model"
   ]
  },
  {
   "cell_type": "markdown",
   "id": "1d687546",
   "metadata": {},
   "source": [
    "In the **Notebooks** folder you can find **interior_evolution_notebook.ipynb**. You can run individual cell or run the model with *Kernel -> Restart and Run All*. Before excecuting the model, give the planet that you want to run from the input file in `q = interior_evolution(body='Insert_Planet_Name')`. Also choose between a stagnant lid (*SL*) and mobile lid (*ML*) regime in `q.calculate_evolution('Insert_Regime')`. Keep in mind that the teconic regime needs to match the one given in **get_parameters.py**."
   ]
  },
  {
   "cell_type": "markdown",
   "id": "30744299",
   "metadata": {},
   "source": [
    "## Visualization"
   ]
  },
  {
   "cell_type": "markdown",
   "id": "3af9e8a0",
   "metadata": {},
   "source": [
    "After running the model via the Kernel, functions from **plotting_functions.py** will be excecuted and diagrams automatically be generated."
   ]
  }
 ],
 "metadata": {
  "kernelspec": {
   "display_name": "Python 3 (ipykernel)",
   "language": "python",
   "name": "python3"
  },
  "language_info": {
   "codemirror_mode": {
    "name": "ipython",
    "version": 3
   },
   "file_extension": ".py",
   "mimetype": "text/x-python",
   "name": "python",
   "nbconvert_exporter": "python",
   "pygments_lexer": "ipython3",
   "version": "3.11.5"
  }
 },
 "nbformat": 4,
 "nbformat_minor": 5
}
